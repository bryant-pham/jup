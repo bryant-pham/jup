{
 "cells": [
  {
   "cell_type": "code",
   "execution_count": 72,
   "metadata": {},
   "outputs": [],
   "source": [
    "import numpy as np"
   ]
  },
  {
   "cell_type": "code",
   "execution_count": 73,
   "metadata": {},
   "outputs": [],
   "source": [
    "x = np.array([[1],[2]])\n",
    "y = np.array([[2],[4]])\n",
    "m,n = x.shape\n",
    "x = x.T\n",
    "y = y.T"
   ]
  },
  {
   "cell_type": "code",
   "execution_count": 79,
   "metadata": {},
   "outputs": [],
   "source": [
    "def mse(y, yhat, m):\n",
    "    diff = y - yhat\n",
    "    return np.sum(diff ** 2) / m\n",
    "\n",
    "def predict(x, w, b):\n",
    "    return np.matmul(w, x) + b"
   ]
  },
  {
   "cell_type": "code",
   "execution_count": 91,
   "metadata": {},
   "outputs": [
    {
     "name": "stdout",
     "output_type": "stream",
     "text": [
      "[3.9999999]\n"
     ]
    }
   ],
   "source": [
    "w = np.zeros((1,n))\n",
    "b = 0\n",
    "alpha = 0.01\n",
    "for i in range(10000):\n",
    "    yhat = predict(x, w, b)\n",
    "    cost = mse(y, yhat, m)\n",
    "    \n",
    "    dw1 = -2 * np.sum((y-yhat) * x) / m\n",
    "    db  = -2 * np.sum(y-yhat) / m\n",
    "    \n",
    "    w = w - alpha * dw1\n",
    "    b = b - alpha * db\n",
    "    if i % 1000 == 0:\n",
    "        print('yhat %s' % yhat)\n",
    "        print('cost %s' % cost)\n",
    "        print('dw1 %s' % dw1)\n",
    "        print('db %s' % db)\n",
    "\n",
    "        print('w %s' % w)\n",
    "        print('b %s' % b)\n",
    "        print()"
   ]
  },
  {
   "cell_type": "code",
   "execution_count": null,
   "metadata": {},
   "outputs": [],
   "source": []
  },
  {
   "cell_type": "code",
   "execution_count": null,
   "metadata": {},
   "outputs": [],
   "source": []
  }
 ],
 "metadata": {
  "kernelspec": {
   "display_name": "Python 3",
   "language": "python",
   "name": "python3"
  },
  "language_info": {
   "codemirror_mode": {
    "name": "ipython",
    "version": 3
   },
   "file_extension": ".py",
   "mimetype": "text/x-python",
   "name": "python",
   "nbconvert_exporter": "python",
   "pygments_lexer": "ipython3",
   "version": "3.6.5"
  }
 },
 "nbformat": 4,
 "nbformat_minor": 2
}
